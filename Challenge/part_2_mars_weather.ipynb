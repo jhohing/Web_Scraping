{
 "cells": [
  {
   "cell_type": "markdown",
   "metadata": {},
   "source": [
    "# Module 12 Challenge\n",
    "## Deliverable 2: Scrape and Analyze Mars Weather Data"
   ]
  },
  {
   "cell_type": "code",
   "execution_count": 1,
   "metadata": {},
   "outputs": [],
   "source": [
    "# Import relevant libraries\n",
    "from splinter import Browser\n",
    "from bs4 import BeautifulSoup as soup\n",
    "from webdriver_manager.chrome import ChromeDriverManager\n",
    "import matplotlib.pyplot as plt\n",
    "import pandas as pd\n",
    "import matplotlib.pyplot as plt\n",
    "%matplotlib inline"
   ]
  },
  {
   "cell_type": "code",
   "execution_count": 2,
   "metadata": {},
   "outputs": [],
   "source": [
    "executable_path = {'executable_path': ChromeDriverManager().install()}\n",
    "browser = Browser('chrome', **executable_path, headless=False)"
   ]
  },
  {
   "cell_type": "markdown",
   "metadata": {},
   "source": [
    "### Step 1: Visit the Website\n",
    "\n",
    "Use automated browsing to visit the [Mars Temperature Data Site](https://data-class-mars-challenge.s3.amazonaws.com/Mars/index.html). Inspect the page to identify which elements to scrape. Note that the URL is `https://data-class-mars-challenge.s3.amazonaws.com/Mars/index.html`.\n",
    "\n",
    "   > **Hint** To identify which elements to scrape, you might want to inspect the page by using Chrome DevTools to discover whether the table contains usable classes.\n"
   ]
  },
  {
   "cell_type": "code",
   "execution_count": 3,
   "metadata": {},
   "outputs": [],
   "source": [
    "# Visit the website\n",
    "# https://data-class-mars-challenge.s3.amazonaws.com/Mars/index.html\n",
    "url = 'https://data-class-mars-challenge.s3.amazonaws.com/Mars/index.html'\n",
    "browser.visit(url)"
   ]
  },
  {
   "cell_type": "markdown",
   "metadata": {},
   "source": [
    "### Step 2: Scrape the Table\n",
    "\n",
    "Create a Beautiful Soup object and use it to scrape the data in the HTML table.\n",
    "\n",
    "Note that this can also be achieved by using the Pandas `read_html` function. However, use Beautiful Soup here to continue sharpening your web scraping skills."
   ]
  },
  {
   "cell_type": "code",
   "execution_count": 4,
   "metadata": {},
   "outputs": [],
   "source": [
    "# Create a Beautiful Soup Object\n",
    "html = browser.html\n",
    "html_soup = soup(html, 'html.parser') "
   ]
  },
  {
   "cell_type": "code",
   "execution_count": 5,
   "metadata": {},
   "outputs": [],
   "source": [
    "# Extract all rows of data\n",
    "table = html_soup.find('table', class_='table')"
   ]
  },
  {
   "cell_type": "markdown",
   "metadata": {},
   "source": [
    "### Step 3: Store the Data\n",
    "\n",
    "Assemble the scraped data into a Pandas DataFrame. The columns should have the same headings as the table on the website. Here’s an explanation of the column headings:\n",
    "\n",
    "* `id`: the identification number of a single transmission from the Curiosity rover\n",
    "* `terrestrial_date`: the date on Earth\n",
    "* `sol`: the number of elapsed sols (Martian days) since Curiosity landed on Mars\n",
    "* `ls`: the solar longitude\n",
    "* `month`: the Martian month\n",
    "* `min_temp`: the minimum temperature, in Celsius, of a single Martian day (sol)\n",
    "* `pressure`: The atmospheric pressure at Curiosity's location"
   ]
  },
  {
   "cell_type": "code",
   "execution_count": 6,
   "metadata": {},
   "outputs": [
    {
     "name": "stdout",
     "output_type": "stream",
     "text": [
      "['id', 'terrestrial_date', 'sol', 'ls', 'month', 'min_temp', 'pressure']\n"
     ]
    }
   ],
   "source": [
    "# Create an empty list\n",
    "table_headers = []\n",
    "# Loop through the scraped data to create a list of rows\n",
    "headers = table.find_all('th')\n",
    "for header in headers:\n",
    "    title = header.text\n",
    "    table_headers.append(title)\n",
    "print(table_headers)"
   ]
  },
  {
   "cell_type": "code",
   "execution_count": 7,
   "metadata": {},
   "outputs": [
    {
     "data": {
      "text/html": [
       "<div>\n",
       "<style scoped>\n",
       "    .dataframe tbody tr th:only-of-type {\n",
       "        vertical-align: middle;\n",
       "    }\n",
       "\n",
       "    .dataframe tbody tr th {\n",
       "        vertical-align: top;\n",
       "    }\n",
       "\n",
       "    .dataframe thead th {\n",
       "        text-align: right;\n",
       "    }\n",
       "</style>\n",
       "<table border=\"1\" class=\"dataframe\">\n",
       "  <thead>\n",
       "    <tr style=\"text-align: right;\">\n",
       "      <th></th>\n",
       "      <th>id</th>\n",
       "      <th>terrestrial_date</th>\n",
       "      <th>sol</th>\n",
       "      <th>ls</th>\n",
       "      <th>month</th>\n",
       "      <th>min_temp</th>\n",
       "      <th>pressure</th>\n",
       "    </tr>\n",
       "  </thead>\n",
       "  <tbody>\n",
       "  </tbody>\n",
       "</table>\n",
       "</div>"
      ],
      "text/plain": [
       "Empty DataFrame\n",
       "Columns: [id, terrestrial_date, sol, ls, month, min_temp, pressure]\n",
       "Index: []"
      ]
     },
     "execution_count": 7,
     "metadata": {},
     "output_type": "execute_result"
    }
   ],
   "source": [
    "# Create a Pandas DataFrame by using the list of rows and a list of the column names\n",
    "mars_weather_df = pd.DataFrame(columns=table_headers)\n",
    "mars_weather_df"
   ]
  },
  {
   "cell_type": "code",
   "execution_count": 8,
   "metadata": {},
   "outputs": [],
   "source": [
    "#Loop through table and get row data to add to DataFrame\n",
    "for row in table.find_all('tr', class_='data-row'):\n",
    "    data = row.find_all('td')\n",
    "    row_data = [td.text.strip() for td in data]\n",
    "    length = len(mars_weather_df)\n",
    "    mars_weather_df.loc[length] = row_data"
   ]
  },
  {
   "cell_type": "code",
   "execution_count": 9,
   "metadata": {},
   "outputs": [
    {
     "data": {
      "text/html": [
       "<div>\n",
       "<style scoped>\n",
       "    .dataframe tbody tr th:only-of-type {\n",
       "        vertical-align: middle;\n",
       "    }\n",
       "\n",
       "    .dataframe tbody tr th {\n",
       "        vertical-align: top;\n",
       "    }\n",
       "\n",
       "    .dataframe thead th {\n",
       "        text-align: right;\n",
       "    }\n",
       "</style>\n",
       "<table border=\"1\" class=\"dataframe\">\n",
       "  <thead>\n",
       "    <tr style=\"text-align: right;\">\n",
       "      <th></th>\n",
       "      <th>id</th>\n",
       "      <th>terrestrial_date</th>\n",
       "      <th>sol</th>\n",
       "      <th>ls</th>\n",
       "      <th>month</th>\n",
       "      <th>min_temp</th>\n",
       "      <th>pressure</th>\n",
       "    </tr>\n",
       "  </thead>\n",
       "  <tbody>\n",
       "    <tr>\n",
       "      <th>0</th>\n",
       "      <td>2</td>\n",
       "      <td>2012-08-16</td>\n",
       "      <td>10</td>\n",
       "      <td>155</td>\n",
       "      <td>6</td>\n",
       "      <td>-75.0</td>\n",
       "      <td>739.0</td>\n",
       "    </tr>\n",
       "    <tr>\n",
       "      <th>1</th>\n",
       "      <td>13</td>\n",
       "      <td>2012-08-17</td>\n",
       "      <td>11</td>\n",
       "      <td>156</td>\n",
       "      <td>6</td>\n",
       "      <td>-76.0</td>\n",
       "      <td>740.0</td>\n",
       "    </tr>\n",
       "    <tr>\n",
       "      <th>2</th>\n",
       "      <td>24</td>\n",
       "      <td>2012-08-18</td>\n",
       "      <td>12</td>\n",
       "      <td>156</td>\n",
       "      <td>6</td>\n",
       "      <td>-76.0</td>\n",
       "      <td>741.0</td>\n",
       "    </tr>\n",
       "    <tr>\n",
       "      <th>3</th>\n",
       "      <td>35</td>\n",
       "      <td>2012-08-19</td>\n",
       "      <td>13</td>\n",
       "      <td>157</td>\n",
       "      <td>6</td>\n",
       "      <td>-74.0</td>\n",
       "      <td>732.0</td>\n",
       "    </tr>\n",
       "    <tr>\n",
       "      <th>4</th>\n",
       "      <td>46</td>\n",
       "      <td>2012-08-20</td>\n",
       "      <td>14</td>\n",
       "      <td>157</td>\n",
       "      <td>6</td>\n",
       "      <td>-74.0</td>\n",
       "      <td>740.0</td>\n",
       "    </tr>\n",
       "    <tr>\n",
       "      <th>...</th>\n",
       "      <td>...</td>\n",
       "      <td>...</td>\n",
       "      <td>...</td>\n",
       "      <td>...</td>\n",
       "      <td>...</td>\n",
       "      <td>...</td>\n",
       "      <td>...</td>\n",
       "    </tr>\n",
       "    <tr>\n",
       "      <th>1862</th>\n",
       "      <td>1889</td>\n",
       "      <td>2018-02-23</td>\n",
       "      <td>1973</td>\n",
       "      <td>133</td>\n",
       "      <td>5</td>\n",
       "      <td>-78.0</td>\n",
       "      <td>730.0</td>\n",
       "    </tr>\n",
       "    <tr>\n",
       "      <th>1863</th>\n",
       "      <td>1892</td>\n",
       "      <td>2018-02-24</td>\n",
       "      <td>1974</td>\n",
       "      <td>134</td>\n",
       "      <td>5</td>\n",
       "      <td>-77.0</td>\n",
       "      <td>729.0</td>\n",
       "    </tr>\n",
       "    <tr>\n",
       "      <th>1864</th>\n",
       "      <td>1894</td>\n",
       "      <td>2018-02-25</td>\n",
       "      <td>1975</td>\n",
       "      <td>134</td>\n",
       "      <td>5</td>\n",
       "      <td>-76.0</td>\n",
       "      <td>729.0</td>\n",
       "    </tr>\n",
       "    <tr>\n",
       "      <th>1865</th>\n",
       "      <td>1893</td>\n",
       "      <td>2018-02-26</td>\n",
       "      <td>1976</td>\n",
       "      <td>135</td>\n",
       "      <td>5</td>\n",
       "      <td>-77.0</td>\n",
       "      <td>728.0</td>\n",
       "    </tr>\n",
       "    <tr>\n",
       "      <th>1866</th>\n",
       "      <td>1895</td>\n",
       "      <td>2018-02-27</td>\n",
       "      <td>1977</td>\n",
       "      <td>135</td>\n",
       "      <td>5</td>\n",
       "      <td>-77.0</td>\n",
       "      <td>727.0</td>\n",
       "    </tr>\n",
       "  </tbody>\n",
       "</table>\n",
       "<p>1867 rows × 7 columns</p>\n",
       "</div>"
      ],
      "text/plain": [
       "        id terrestrial_date   sol   ls month min_temp pressure\n",
       "0        2       2012-08-16    10  155     6    -75.0    739.0\n",
       "1       13       2012-08-17    11  156     6    -76.0    740.0\n",
       "2       24       2012-08-18    12  156     6    -76.0    741.0\n",
       "3       35       2012-08-19    13  157     6    -74.0    732.0\n",
       "4       46       2012-08-20    14  157     6    -74.0    740.0\n",
       "...    ...              ...   ...  ...   ...      ...      ...\n",
       "1862  1889       2018-02-23  1973  133     5    -78.0    730.0\n",
       "1863  1892       2018-02-24  1974  134     5    -77.0    729.0\n",
       "1864  1894       2018-02-25  1975  134     5    -76.0    729.0\n",
       "1865  1893       2018-02-26  1976  135     5    -77.0    728.0\n",
       "1866  1895       2018-02-27  1977  135     5    -77.0    727.0\n",
       "\n",
       "[1867 rows x 7 columns]"
      ]
     },
     "execution_count": 9,
     "metadata": {},
     "output_type": "execute_result"
    }
   ],
   "source": [
    "# Confirm DataFrame was created successfully\n",
    "mars_weather_df"
   ]
  },
  {
   "cell_type": "markdown",
   "metadata": {},
   "source": [
    "### Step 4: Prepare Data for Analysis\n",
    "\n",
    "Examine the data types that are currently associated with each column. If necessary, cast (or convert) the data to the appropriate `datetime`, `int`, or `float` data types.\n",
    "\n",
    "  > **Hint** You can use the Pandas `astype` and `to_datetime` methods to accomplish this task.\n"
   ]
  },
  {
   "cell_type": "code",
   "execution_count": 10,
   "metadata": {},
   "outputs": [
    {
     "data": {
      "text/plain": [
       "id                  object\n",
       "terrestrial_date    object\n",
       "sol                 object\n",
       "ls                  object\n",
       "month               object\n",
       "min_temp            object\n",
       "pressure            object\n",
       "dtype: object"
      ]
     },
     "execution_count": 10,
     "metadata": {},
     "output_type": "execute_result"
    }
   ],
   "source": [
    "# Examine data type of each column\n",
    "mars_weather_df.dtypes"
   ]
  },
  {
   "cell_type": "code",
   "execution_count": 11,
   "metadata": {},
   "outputs": [],
   "source": [
    "# Change data types for data analysis\n",
    "mars_weather_df['id']=mars_weather_df['id'].astype(int)\n",
    "mars_weather_df['terrestrial_date']=pd.to_datetime(mars_weather_df['terrestrial_date'])\n",
    "mars_weather_df['sol']=mars_weather_df['sol'].astype(int)\n",
    "mars_weather_df['ls']=mars_weather_df['ls'].astype(int)\n",
    "mars_weather_df['month']=mars_weather_df['month'].astype(int)\n",
    "mars_weather_df['min_temp']=mars_weather_df['min_temp'].astype(float)\n",
    "mars_weather_df['pressure']=mars_weather_df['pressure'].astype(float)"
   ]
  },
  {
   "cell_type": "code",
   "execution_count": 12,
   "metadata": {},
   "outputs": [
    {
     "name": "stdout",
     "output_type": "stream",
     "text": [
      "<class 'pandas.core.frame.DataFrame'>\n",
      "Int64Index: 1867 entries, 0 to 1866\n",
      "Data columns (total 7 columns):\n",
      " #   Column            Non-Null Count  Dtype         \n",
      "---  ------            --------------  -----         \n",
      " 0   id                1867 non-null   int32         \n",
      " 1   terrestrial_date  1867 non-null   datetime64[ns]\n",
      " 2   sol               1867 non-null   int32         \n",
      " 3   ls                1867 non-null   int32         \n",
      " 4   month             1867 non-null   int32         \n",
      " 5   min_temp          1867 non-null   float64       \n",
      " 6   pressure          1867 non-null   float64       \n",
      "dtypes: datetime64[ns](1), float64(2), int32(4)\n",
      "memory usage: 87.5 KB\n"
     ]
    }
   ],
   "source": [
    "# Confirm type changes were successful by examining data types again\n",
    "mars_weather_df.info()"
   ]
  },
  {
   "cell_type": "markdown",
   "metadata": {},
   "source": [
    "### Step 5: Analyze the Data\n",
    "\n",
    "Analyze your dataset by using Pandas functions to answer the following questions:\n",
    "\n",
    "1. How many months exist on Mars?\n",
    "2. How many Martian (and not Earth) days worth of data exist in the scraped dataset?\n",
    "3. What are the coldest and the warmest months on Mars (at the location of Curiosity)? To answer this question:\n",
    "    * Find the average the minimum daily temperature for all of the months.\n",
    "    * Plot the results as a bar chart.\n",
    "4. Which months have the lowest and the highest atmospheric pressure on Mars? To answer this question:\n",
    "    * Find the average the daily atmospheric pressure of all the months.\n",
    "    * Plot the results as a bar chart.\n",
    "5. About how many terrestrial (Earth) days exist in a Martian year? To answer this question:\n",
    "    * Consider how many days elapse on Earth in the time that Mars circles the Sun once.\n",
    "    * Visually estimate the result by plotting the daily minimum temperature.\n"
   ]
  },
  {
   "cell_type": "code",
   "execution_count": 13,
   "metadata": {},
   "outputs": [
    {
     "name": "stdout",
     "output_type": "stream",
     "text": [
      "There are 12 months on Mars.\n"
     ]
    }
   ],
   "source": [
    "# 1. How many months are there on Mars?\n",
    "num_of_months=mars_weather_df['month'].nunique()\n",
    "print(f'There are', num_of_months ,'months on Mars.')"
   ]
  },
  {
   "cell_type": "code",
   "execution_count": 14,
   "metadata": {},
   "outputs": [
    {
     "name": "stdout",
     "output_type": "stream",
     "text": [
      "There are 1867 Martian days worth of data in the dataset.\n"
     ]
    }
   ],
   "source": [
    "# 2. How many Martian days' worth of data are there?\n",
    "unique_days_date=mars_weather_df['sol'].nunique()\n",
    "print(f'There are', unique_days_date, 'Martian days worth of data in the dataset.')"
   ]
  },
  {
   "cell_type": "code",
   "execution_count": 15,
   "metadata": {},
   "outputs": [
    {
     "name": "stdout",
     "output_type": "stream",
     "text": [
      "[{'month_num': 1, 'avg_min_temp': -77.0}, {'month_num': 2, 'avg_min_temp': -80.0}, {'month_num': 3, 'avg_min_temp': -83.0}, {'month_num': 4, 'avg_min_temp': -83.0}, {'month_num': 5, 'avg_min_temp': -79.0}, {'month_num': 6, 'avg_min_temp': -75.0}, {'month_num': 7, 'avg_min_temp': -72.0}, {'month_num': 8, 'avg_min_temp': -68.0}, {'month_num': 9, 'avg_min_temp': -69.0}, {'month_num': 10, 'avg_min_temp': -72.0}, {'month_num': 11, 'avg_min_temp': -72.0}, {'month_num': 12, 'avg_min_temp': -74.0}]\n"
     ]
    }
   ],
   "source": [
    "# 3. What is the average low temperature by month?\n",
    "avg_min_temp=[]\n",
    "\n",
    "for i in range(1,num_of_months+1):\n",
    "    weather_per_month={\"month_num\":\"\",\"avg_min_temp\":\"\"}\n",
    "    avg_min_temp_month=mars_weather_df.loc[mars_weather_df['month']==i]['min_temp'].mean()\n",
    "    round_avg_min_temp_month = round(avg_min_temp_month,0)\n",
    "    weather_per_month[\"month_num\"] = i\n",
    "    weather_per_month[\"avg_min_temp\"] = round_avg_min_temp_month\n",
    "    avg_min_temp.append(weather_per_month)    \n",
    "\n",
    "print(avg_min_temp)"
   ]
  },
  {
   "cell_type": "code",
   "execution_count": 16,
   "metadata": {},
   "outputs": [
    {
     "data": {
      "text/html": [
       "<div>\n",
       "<style scoped>\n",
       "    .dataframe tbody tr th:only-of-type {\n",
       "        vertical-align: middle;\n",
       "    }\n",
       "\n",
       "    .dataframe tbody tr th {\n",
       "        vertical-align: top;\n",
       "    }\n",
       "\n",
       "    .dataframe thead th {\n",
       "        text-align: right;\n",
       "    }\n",
       "</style>\n",
       "<table border=\"1\" class=\"dataframe\">\n",
       "  <thead>\n",
       "    <tr style=\"text-align: right;\">\n",
       "      <th></th>\n",
       "      <th>month_num</th>\n",
       "      <th>avg_min_temp</th>\n",
       "    </tr>\n",
       "  </thead>\n",
       "  <tbody>\n",
       "    <tr>\n",
       "      <th>0</th>\n",
       "      <td>1</td>\n",
       "      <td>-77.0</td>\n",
       "    </tr>\n",
       "    <tr>\n",
       "      <th>1</th>\n",
       "      <td>2</td>\n",
       "      <td>-80.0</td>\n",
       "    </tr>\n",
       "    <tr>\n",
       "      <th>2</th>\n",
       "      <td>3</td>\n",
       "      <td>-83.0</td>\n",
       "    </tr>\n",
       "    <tr>\n",
       "      <th>3</th>\n",
       "      <td>4</td>\n",
       "      <td>-83.0</td>\n",
       "    </tr>\n",
       "    <tr>\n",
       "      <th>4</th>\n",
       "      <td>5</td>\n",
       "      <td>-79.0</td>\n",
       "    </tr>\n",
       "    <tr>\n",
       "      <th>5</th>\n",
       "      <td>6</td>\n",
       "      <td>-75.0</td>\n",
       "    </tr>\n",
       "    <tr>\n",
       "      <th>6</th>\n",
       "      <td>7</td>\n",
       "      <td>-72.0</td>\n",
       "    </tr>\n",
       "    <tr>\n",
       "      <th>7</th>\n",
       "      <td>8</td>\n",
       "      <td>-68.0</td>\n",
       "    </tr>\n",
       "    <tr>\n",
       "      <th>8</th>\n",
       "      <td>9</td>\n",
       "      <td>-69.0</td>\n",
       "    </tr>\n",
       "    <tr>\n",
       "      <th>9</th>\n",
       "      <td>10</td>\n",
       "      <td>-72.0</td>\n",
       "    </tr>\n",
       "    <tr>\n",
       "      <th>10</th>\n",
       "      <td>11</td>\n",
       "      <td>-72.0</td>\n",
       "    </tr>\n",
       "    <tr>\n",
       "      <th>11</th>\n",
       "      <td>12</td>\n",
       "      <td>-74.0</td>\n",
       "    </tr>\n",
       "  </tbody>\n",
       "</table>\n",
       "</div>"
      ],
      "text/plain": [
       "    month_num  avg_min_temp\n",
       "0           1         -77.0\n",
       "1           2         -80.0\n",
       "2           3         -83.0\n",
       "3           4         -83.0\n",
       "4           5         -79.0\n",
       "5           6         -75.0\n",
       "6           7         -72.0\n",
       "7           8         -68.0\n",
       "8           9         -69.0\n",
       "9          10         -72.0\n",
       "10         11         -72.0\n",
       "11         12         -74.0"
      ]
     },
     "execution_count": 16,
     "metadata": {},
     "output_type": "execute_result"
    }
   ],
   "source": [
    "month_temp_df = pd.DataFrame(avg_min_temp)\n",
    "month_temp_df"
   ]
  },
  {
   "cell_type": "code",
   "execution_count": 18,
   "metadata": {},
   "outputs": [
    {
     "data": {
      "text/plain": [
       "Text(0.5, 1.0, 'Avergae Minimum Temperature by Month')"
      ]
     },
     "execution_count": 18,
     "metadata": {},
     "output_type": "execute_result"
    },
    {
     "data": {
      "image/png": "iVBORw0KGgoAAAANSUhEUgAAAj4AAAHFCAYAAADyj/PrAAAAOXRFWHRTb2Z0d2FyZQBNYXRwbG90bGliIHZlcnNpb24zLjUuMiwgaHR0cHM6Ly9tYXRwbG90bGliLm9yZy8qNh9FAAAACXBIWXMAAA9hAAAPYQGoP6dpAABDpElEQVR4nO3dfXzO9f////th7NiMrTF2wmZCWCPaSqOSkzcxpDMksvTxeRc+5KSi3oU+hkLvSm9KTiuhd7zLZ1Lzzkktcx4VnbwVtrJFJnNSM9vz+4ffjp+jzezgWMdxeN2ul8vrcnE8X2eP1+s4tt09X8/X67AZY4wAAAAsoIqnCwAAAPizEHwAAIBlEHwAAIBlEHwAAIBlEHwAAIBlEHwAAIBlEHwAAIBlEHwAAIBlEHwAAIBlEHzgVi+//LJsNpvi4+M9XYrXsdlsstlsSklJKXP+s88+61jmwIEDjvaUlBTFxsZe0j4XLVpUanu+rOT8XGzasGGDp0v1mA8++EATJ070dBllmjhxomw2m3755ZdK3U9KSopsNptq1qypkydPlpp/8OBBValSRTabrdLP1dtvv60XX3yxVPuBAwdks9k0Y8aMSt0/SiP4wK0WLFggSdqzZ4+2bNni4Wq8T82aNfXPf/5TJ06ccGo3xmjRokUKDg4utc7TTz+tf/3rX5e0v+TkZGVmZioyMvKS1vc2mZmZTlP37t0VGBhYqv3666/3dKke88EHH2jSpEmeLsPjqlWrprNnz2r58uWl5i1cuFA1a9b8U+q4UPCB5xB84Dbbt2/X7t27lZycLEmaP3/+n16DMUa//fbbn77firrjjjtkjNGyZcuc2tetW6f9+/erb9++pdZp1KiRWrdufUn7q1Onjm666SbZ7fZLWt/b3HTTTU5TnTp1VKVKlVLtZQVIX3X69GlPlyDJe+qoKH9/f/Xu3dvxn7ESJf/JKOtnDdZA8IHblASdadOmqW3btlq2bJnjl2VhYaHq1q2rgQMHllrv119/VWBgoEaPHu1oy8/P19ixY9WwYUP5+/urXr16evTRR3Xq1CmndW02m4YPH65XX31VzZs3l91u1+LFiyVJGRkZSkpKUkBAgOrVq6enn35a8+bNK3XpZ/ny5erSpYsiIyMVGBio5s2ba9y4caX2JZ0Ld7169VKtWrUUEBCg1q1b65133qnwOQoJCdGdd95Z6pfxggUL1K5dO11zzTWl1inrUlfJcb/55ptq3ry5qlevruuuu05paWlOy5V1qeu2225TfHy8MjMz1bZtWwUGBio2NlYLFy6UJK1evVrXX3+9qlevrhYtWujDDz+8aD3S/38Zo6w6Fy5cqKZNmyowMFCJiYnavHmzjDGaPn26GjZsqBo1aqhjx47at2/fxU7hRZ05c0aTJ09Ws2bNZLfbVadOHT344IM6cuSI03KxsbHq0aOH0tLS1Lp1a8d7X3IOFy1apObNmysoKEg33nijtm/fXuo81KhRQ3v27FGnTp0UFBSkOnXqaPjw4aVCgjFGs2fPVqtWrRQYGKjQ0FDdc889+uGHH5yWK3lvPvnkE7Vt21bVq1fX4MGDJVXsc5qSkqJ//OMfjnN//qXTkksrixYtKnXO/njJp+S93Llzp+655x6FhoaqUaNGLh1LebKzs3XXXXcpODhYISEhGjBggNP789BDD6lWrVplhq2OHTvq2muvrdB+Bg8erE2bNunbb791tP373//WwYMH9eCDD5a5zldffaU77rhDoaGhCggIUKtWrRy/U0ps2LBBNptNS5cu1VNPPaWoqCgFBwerc+fOTvu67bbbtHr1ah08eNDp/fijF154wfFzkJSUpM2bN1fo+HCJDOAGp0+fNiEhIeaGG24wxhgzb948I8ksWrTIscyoUaNMYGCgOX78uNO6s2fPNpLMF198YYwx5tSpU6ZVq1YmLCzMvPDCC+bf//63eemll0xISIjp2LGjKS4udqwrydSrV8+0bNnSvP3222bdunXmq6++Mrt37zYBAQGmZcuWZtmyZWbVqlWme/fuJjY21kgy+/fvd2zjf//3f83f//53s3r1arNhwwbz6quvmoYNG5oOHTo41blu3Trj7+9vbrnlFrN8+XLz4YcfmpSUFCPJLFy48KLnSJIZNmyY+fjjj40ks3fvXmOMMceOHTMBAQFmwYIFZvr06aXqGzRokGnQoEGpbcXGxpobb7zRvPPOO+aDDz4wt912m6latar5/vvvHcstXLiw1Pbat29vateubZo2bWrmz59vPvroI9OjRw8jyUyaNMm0aNHCLF261HzwwQfmpptuMna73fz000/l1mOMMRMmTDB//JUiyTRo0MC0bdvWrFy50vzrX/8y11xzjalVq5YZNWqUueOOO0xaWppZsmSJCQ8PNy1btnR6fy9m0KBBJigoyPG6qKjI3H777SYoKMhMmjTJrF271sybN8/Uq1fPxMXFmdOnTzuWbdCggalfv76Jj493HG+bNm1MtWrVzDPPPGPatWvnVHN4eLjT+oMGDTL+/v4mJibGpKammvT0dDNx4kRTtWpV06NHD6c6hwwZYqpVq2bGjBljPvzwQ/P222+bZs2amfDwcJObm+v03tSqVctER0ebWbNmmfXr15uNGzcaYyr2Od23b5+55557jCSTmZnpmH7//Xezf//+C35WJZkJEyaUei8bNGhgnnjiCbN27Vrz3nvvuXQsZTl/u4899pj56KOPzAsvvGCCgoJM69atzZkzZ4wxxuzevdtIMq+//rrT+nv27DGSzD/+8Y9y91PyuSguLjYNGjQwjz/+uGNe3759za233mqOHDlS6ri/+eYbU7NmTdOoUSPzxhtvmNWrV5v77rvPSDLPPfecY7n169c7fgbvv/9+s3r1arN06VITExNjmjRpYs6ePeuot127diYiIsLp/TDGON6P2NhYc/vtt5v33nvPvPfee6ZFixYmNDTU/Prrr+UeIy4dwQdu8cYbbxhJ5tVXXzXGGHPixAlTo0YNc8sttziW+eKLL4wkM3fuXKd1b7zxRpOQkOB4PXXqVFOlShWzbds2p+XeffddI8l88MEHjjZJJiQkxOTl5Tkte++995qgoCBz5MgRR1tRUZGJi4srFQTOV1xcbAoLC83GjRuNJLN7927HvGbNmpnWrVubwsJCp3V69OhhIiMjTVFRUXmnyBF8iouLTcOGDc3YsWONMcb84x//MDVq1DAnTpxwKfiEh4eb/Px8R1tubq6pUqWKmTp1qqPtQsFHktm+fbuj7ejRo8bPz88EBgY6hZxdu3YZSebll18utx5jLhx8IiIizMmTJx1t7733npFkWrVq5RRyXnzxRacAXBF/DD5Lly41ksyKFSucltu2bZuRZGbPnu1oa9CggQkMDDQ//vhjqeONjIw0p06dKlXzqlWrnPYtybz00ktO+0pNTTWSTEZGhjHGmMzMTCPJzJw502m57OxsExgY6PRHueS9+fjjj8s97vI+p8OGDSv1PhhjLin4PPPMM07LuXIsZSnZ7qhRo5zalyxZYiSZt956y9HWvn1706pVK6flHnnkERMcHGxOnDhR7n7O/1xMmDDBREREmMLCQnP06FFjt9vNokWLygw+/fr1M3a73WRlZTltr1u3bqZ69eqOMFISfLp37+603DvvvOMInSWSk5PL/HkpeT9atGjhCErGGLN161YjySxdurTcY8Sl41IX3GL+/PkKDAxUv379JEk1atTQvffeq08//VT/+c9/JEktWrRQQkKC45KKJH399dfaunWroztfktLS0hQfH69WrVrp7Nmzjqlr165l3rHTsWNHhYaGOrVt3LhRHTt2VFhYmKOtSpUq6tOnT6naf/jhB/Xv318RERHy8/NTtWrV1L59e0d9krRv3z598803uv/++yXJqa7u3bsrJyfHqYu7PCV3dr355ps6e/as5s+frz59+qhGjRoVWr9Ehw4dnAZohoeHq27dujp48OBF142MjFRCQoLjda1atVS3bl21atVKUVFRjvbmzZtLUoW2WV6dQUFBpbbZrVs3p25/d+wrLS1NV111lXr27On0HrVq1UoRERGlPjutWrVSvXr1StVw2223qXr16hWqreQzUaJ///6SpPXr1ztqstlsGjBggFNNERERuu6660rVFBoaqo4dO5baT0U+p+529913O7129Vgu5I/nrE+fPqpatarjnEnSyJEjtWvXLn322WeSzl3+fvPNNzVo0CCXflYefPBB/fzzz1qzZo2WLFkif39/3XvvvWUuu27dOnXq1EnR0dFO7SkpKTp9+rQyMzOd2nv16uX0umXLlpJc+wwnJyfLz8/vsrYB1xB8cNn27dunTz75RMnJyTLG6Ndff9Wvv/6qe+65R5KcxrMMHjxYmZmZ+uabbySdu7vCbrfrvvvucyzz888/64svvlC1atWcppo1a8oYU+pW2LLuWDp69KjCw8NLtf+x7eTJk7rlllu0ZcsWTZ48WRs2bNC2bdu0cuVKSXIMlP75558lSWPHji1V19ChQyXJpVt0S8acTJkyRTt37tRDDz1U4XVL1K5du1Sb3W6v0ODuWrVqlWrz9/cv1e7v7y9J+v33312u70L7KtlmZezr559/1q+//ip/f/9S71Nubm6p9+hya6tatWqp9yEiIkLSuc9gSU3GGIWHh5eqafPmzRX6PFf0c+puf6zF1WO5kJJzVKLkPJacM+ncjQCxsbGOMUuLFi3SqVOnNGzYMJeOoUGDBurUqZMWLFigBQsWqF+/fk6h9nxHjx4t8/yX/Gfg/Pqk0j+DJTcRuPJ+uGMbcE1VTxcA37dgwQIZY/Tuu+/q3XffLTV/8eLFmjx5svz8/HTfffdp9OjRWrRokVJTU/Xmm2+qd+/eTj02YWFhCgwMLDUA+Pz55ytrsGDt2rUdYeV8ubm5Tq/XrVunQ4cOacOGDY7/PUvnBlyXtc/x48frrrvuKrOupk2bltlelujoaHXu3FmTJk1S06ZN1bZt2wqv62kBAQEqKCgo1V7Zz2apiLCwMNWuXbvUgOwS7r6F+ezZszp69KjTH6+Sz1hJW1hYmGw2mz799NMy7677Y1tZn+eKfk7LExAQIEml3rs//jEvrxZXj+VCcnNznXrayjqPVapU0bBhw/Tkk09q5syZmj17tjp16uTSz1mJwYMHa8CAASouLtacOXMuuFzt2rWVk5NTqv3QoUOSSv/ugW8i+OCyFBUVafHixWrUqJHmzZtXan5aWppmzpypNWvWqEePHgoNDVXv3r31xhtvKCkpSbm5uU6XuSSpR48emjJlimrXrq2GDRteUl3t27fXBx98oF9++cXxy6q4uFj//Oc/nZYr+cX+x1/Yr732mtPrpk2bqkmTJtq9e7emTJlySTX90ZgxYxQYGHjBbndvFRsbq8OHD+vnn3929KCdOXNGH330kYcrO/fZWbZsmYqKitSmTZs/ZZ9LlizRiBEjHK/ffvttSecul5XUNG3aNP30009lXmqtiIp+Ts9f5rffflNgYKCjPTw8XAEBAfriiy+cln///fcrXIc7jkU6d87Ov9T6zjvv6OzZs45zVuK//uu/NHHiRN1///369ttv9dxzz13S/u68807deeedCgkJ0U033XTB5Tp16qR//etfOnTokNMl3zfeeEPVq1cvd90LqWgvLP48BB9cljVr1ujQoUN67rnnSv3SkqT4+Hi98sormj9/vnr06CHp3P++li9fruHDh6t+/frq3Lmz0zqPPvqoVqxYoVtvvVWjRo1Sy5YtVVxcrKysLKWnp2vMmDEX/aP21FNP6f/+7//UqVMnPfXUUwoMDNSrr77quPW3SpVzV3nbtm2r0NBQPfzww5owYYKqVaumJUuWaPfu3aW2+dprr6lbt27q2rWrUlJSVK9ePeXl5enrr7/Wzp07S4Wqi+nSpYu6dOni0jreoG/fvnrmmWfUr18/PfbYY/r999/18ssvq6ioyNOlqV+/flqyZIm6d++ukSNH6sYbb1S1atX0448/av369brjjjt05513um1//v7+mjlzpk6ePKkbbrhBmzZt0uTJk9WtWzfdfPPNkqR27drpv//7v/Xggw9q+/btuvXWWxUUFKScnBxlZGSoRYsWeuSRR8rdjyuf0xYtWkiSnnvuOXXr1k1+fn5q2bKl/P39NWDAAC1YsECNGjXSddddp61btzqCWkW441gkaeXKlapatar+8pe/aM+ePXr66ad13XXXlQpTV111lR544AHNmTNHDRo0UM+ePStc6/kCAgLK7I3+owkTJigtLU0dOnTQM888o1q1amnJkiVavXq1nn/+eYWEhLi87xYtWmjlypWaM2eOEhISVKVKFSUmJl7KYcBNCD64LPPnz5e/v/8Fn4kRFhamO++8U++++66jh6Bz586Kjo5Wdna2nnrqKUcIKREUFKRPP/1U06ZN09y5c7V//34FBgYqJiZGnTt3rtDXN1x33XVau3atxo4dqwceeEChoaEaOHCg2rdvryeeeMLxC6x27dpavXq1xowZowEDBigoKEh33HGHli9fXurpvx06dNDWrVuVmpqqRx99VMeOHVPt2rUVFxd3Wf/79TUNGzbU+++/ryeffFL33HOPIiMjNXr0aB05csTjTwz28/PTqlWr9NJLL+nNN9/U1KlTVbVqVdWvX1/t27d3hAJ3qVatmtLS0jRixAhNnjxZgYGBGjJkiKZPn+603GuvvaabbrpJr732mmbPnq3i4mJFRUWpXbt2uvHGGy+6H1c+p/3799dnn32m2bNn69lnn5UxRvv371dsbKxmzpwpSXr++ed18uRJdezYUWlpaS59JcrlHot0LvhMnDhRc+bMkc1mU8+ePfXiiy86xlKdr2/fvpozZ44eeeSRUr8r3K1p06batGmTnnzySQ0bNky//fabmjdvroULF17wq2YuZuTIkdqzZ4+efPJJHT9+XObc3dTuLRwusRneAVhIly5ddODAAX333XeeLgU+LiUlRe+++26Z3wUF9xkzZozmzJmj7OzsMgf0A66ixwdXrNGjR6t169aKjo5WXl6elixZorVr13rkqzQAuGbz5s367rvvNHv2bP31r38l9MBtCD64YhUVFemZZ55Rbm6ubDab4uLi9Oabb2rAgAGeLg3ARSQlJal69erq0aOHJk+e7OlycAXhUhcAALCMK/IBhrNnz1bDhg0VEBCghIQEffrpp54uCQAAeIErLvgsX75cjz76qJ566il9/vnnuuWWW9StWzdlZWV5ujQAAOBhV9ylrjZt2uj66693ejpn8+bN1bt3b02dOtWDlQEAAE+7ogY3nzlzRjt27NC4ceOc2rt06aJNmzaVuU5BQYHTI9yLi4uVl5en2rVrl/noeAAA4H2MMTpx4oSioqLKfebTFRV8fvnlFxUVFZX6Isrw8PBS39FUYurUqR5/6BoAAHCP7Oxs1a9f/4Lzr6jgU+KPPTXGmAv23owfP16jR492vD5+/LhiYmKUnZ2t4OBgt9YVMtX1x527y/Hxx8ud76naqMt15dVGXaV563tJXa7zxc+Yt9Ylee9n7FLl5+crOjr6ol9GfEUFn7CwMPn5+ZXq3Tl8+HCpXqASdru9zG8UDg4OdnvwUYB7N+eKix6Lh2qjLteVWxt1leKt7yV1uc4nP2PeWpfkvZ+xy3SxYSpX1F1d/v7+SkhI0Nq1a53a165dq7Zt23qoKgAA4C2uqB4f6dzXFAwcOFCJiYlKSkrS3LlzlZWVpYcfftjTpQEAAA+74oJP3759dfToUT377LPKyclRfHy8PvjgAzVo0MDTpQEAAA+74oKPJA0dOlRDhw71dBkAAMDLXFFjfAAAAMpD8AEAAJZB8AEAAJZB8AEAAJZB8AEAAJZB8AEAAJZB8AEAAJZB8AEAAJZB8AEAAJZB8AEAAJZB8AEAAJZB8AEAAJZB8AEAAJZB8AEAAJZB8AEAAJZB8AEAAJZB8AEAAJZB8AEAAJZB8AEAAJZB8AEAAJZB8AEAAJZB8AEAAJZB8AEAAJZB8AEAAJZB8AEAAJZB8AEAAJZB8AEAAJZB8AEAAJZB8AEAAJZB8AEAAJZB8AEAAJbhM8EnNTVVbdu2VfXq1XXVVVeVuUxWVpZ69uypoKAghYWFacSIETpz5syfWygAAPBaVT1dQEWdOXNG9957r5KSkjR//vxS84uKipScnKw6deooIyNDR48e1aBBg2SM0axZszxQMQAA8DY+E3wmTZokSVq0aFGZ89PT07V3715lZ2crKipKkjRz5kylpKQoNTVVwcHBf1apAADAS/nMpa6LyczMVHx8vCP0SFLXrl1VUFCgHTt2eLAyAADgLXymx+dicnNzFR4e7tQWGhoqf39/5ebmXnC9goICFRQUOF7n5+dXWo0AAMCzPNrjM3HiRNlstnKn7du3V3h7NputVJsxpsz2ElOnTlVISIhjio6OvqRjAQAA3s+jPT7Dhw9Xv379yl0mNja2QtuKiIjQli1bnNqOHTumwsLCUj1B5xs/frxGjx7teJ2fn0/4AQDgCuXR4BMWFqawsDC3bCspKUmpqanKyclRZGSkpHMDnu12uxISEi64nt1ul91ud0sNAADAu/nMGJ+srCzl5eUpKytLRUVF2rVrlySpcePGqlGjhrp06aK4uDgNHDhQ06dPV15ensaOHashQ4ZwRxcAAJDkQ8HnmWee0eLFix2vW7duLUlav369brvtNvn5+Wn16tUaOnSo2rVrp8DAQPXv318zZszwVMkAAMDL+EzwWbRo0QWf4VMiJiZGaWlpf05BAADA51wxz/EBAAC4GIIPAACwDIIPAACwDIIPAACwDIIPAACwDIIPAACwDIIPAACwDIIPAACwDIIPAACwDIIPAACwDIIPAACwDIIPAACwDIIPAACwDIIPAACwDIIPAACwDIIPAACwDIIPAACwDIIPAACwDIIPAACwDIIPAACwDIIPAACwDIIPAACwDIIPAACwDIIPAACwDIIPAACwDIIPAACwDIIPAACwDIIPAACwDIIPAACwDIIPAACwDIIPAACwDIIPAACwDJ8IPgcOHNBDDz2khg0bKjAwUI0aNdKECRN05swZp+WysrLUs2dPBQUFKSwsTCNGjCi1DAAAsK6qni6gIr755hsVFxfrtddeU+PGjfXVV19pyJAhOnXqlGbMmCFJKioqUnJysurUqaOMjAwdPXpUgwYNkjFGs2bN8vARAAAAb+ATwef222/X7bff7nh99dVX69tvv9WcOXMcwSc9PV179+5Vdna2oqKiJEkzZ85USkqKUlNTFRwc7JHaAQCA9/CJS11lOX78uGrVquV4nZmZqfj4eEfokaSuXbuqoKBAO3bsuOB2CgoKlJ+f7zQBAIArk08Gn++//16zZs3Sww8/7GjLzc1VeHi403KhoaHy9/dXbm7uBbc1depUhYSEOKbo6OhKqxsAAHiWR4PPxIkTZbPZyp22b9/utM6hQ4d0++23695779V//dd/Oc2z2Wyl9mGMKbO9xPjx43X8+HHHlJ2d7Z6DAwAAXsejY3yGDx+ufv36lbtMbGys49+HDh1Shw4dlJSUpLlz5zotFxERoS1btji1HTt2TIWFhaV6gs5nt9tlt9tdLx4AAPgcjwafsLAwhYWFVWjZn376SR06dFBCQoIWLlyoKlWcO6uSkpKUmpqqnJwcRUZGSjo34NlutyshIcHttQMAAN/jE3d1HTp0SLfddptiYmI0Y8YMHTlyxDEvIiJCktSlSxfFxcVp4MCBmj59uvLy8jR27FgNGTKEO7oAAIAkHwk+6enp2rdvn/bt26f69es7zTPGSJL8/Py0evVqDR06VO3atVNgYKD69+/vuN0dAADAJ4JPSkqKUlJSLrpcTEyM0tLSKr8gAADgk3zydnYAAIBLQfABAACWQfABAACWQfABAACWQfABAACWQfABAACWQfABAACWQfABAACWQfABAACWQfABAACWQfABAACWQfABAACWQfABAACWQfABAACWQfABAACWQfABAACWQfABAACWQfABAACWQfABAACWQfABAACWQfABAACWQfABAACWQfABAACWQfABAACWQfABAACWQfABAACWQfABAACWQfABAACWQfABAACWQfABAACWQfABAACW4TPBp1evXoqJiVFAQIAiIyM1cOBAHTp0yGmZrKws9ezZU0FBQQoLC9OIESN05swZD1UMAAC8jc8Enw4dOuidd97Rt99+qxUrVuj777/XPffc45hfVFSk5ORknTp1ShkZGVq2bJlWrFihMWPGeLBqAADgTap6uoCKGjVqlOPfDRo00Lhx49S7d28VFhaqWrVqSk9P1969e5Wdna2oqChJ0syZM5WSkqLU1FQFBwd7qnQAAOAlfKbH53x5eXlasmSJ2rZtq2rVqkmSMjMzFR8f7wg9ktS1a1cVFBRox44dF9xWQUGB8vPznSYAAHBl8qng88QTTygoKEi1a9dWVlaW3n//fce83NxchYeHOy0fGhoqf39/5ebmXnCbU6dOVUhIiGOKjo6utPoBAIBneTT4TJw4UTabrdxp+/btjuUfe+wxff7550pPT5efn58eeOABGWMc8202W6l9GGPKbC8xfvx4HT9+3DFlZ2e79yABAIDX8OgYn+HDh6tfv37lLhMbG+v4d1hYmMLCwnTNNdeoefPmio6O1ubNm5WUlKSIiAht2bLFad1jx46psLCwVE/Q+ex2u+x2+2UdBwAA8A0eDT4lQeZSlPT0FBQUSJKSkpKUmpqqnJwcRUZGSpLS09Nlt9uVkJDgnoIBAIBP84m7urZu3aqtW7fq5ptvVmhoqH744Qc988wzatSokZKSkiRJXbp0UVxcnAYOHKjp06crLy9PY8eO1ZAhQ7ijCwAASPKRwc2BgYFauXKlOnXqpKZNm2rw4MGKj4/Xxo0bHZep/Pz8tHr1agUEBKhdu3bq06ePevfurRkzZni4egAA4C18osenRYsWWrdu3UWXi4mJUVpa2p9QEQAA8EU+0eMDAADgDgQfAABgGZd8qWv79u36+uuvZbPZ1KxZMyUmJrqzLgAAALdzOfj8+OOPuu+++/TZZ5/pqquukiT9+uuvatu2rZYuXcqTjwEAgNdy+VLX4MGDVVhYqK+//lp5eXnKy8vT119/LWOMHnroocqoEQAAwC1c7vH59NNPtWnTJjVt2tTR1rRpU82aNUvt2rVza3EAAADu5HKPT0xMjAoLC0u1nz17VvXq1XNLUQAAAJXB5eDz/PPP63/+53+0fft2x9dGbN++XSNHjuRhgQAAwKu5fKkrJSVFp0+fVps2bVS16rnVz549q6pVq2rw4MEaPHiwY9m8vDz3VQoAAHCZXA4+L774YiWUAQAAUPlcDj6DBg2qjDoAAAAq3SU/wPDw4cM6fPiwiouLndpbtmx52UUBAABUBpeDz44dOzRo0CDHs3vOZ7PZVFRU5LbiAAAA3Mnl4PPggw/qmmuu0fz58xUeHi6bzVYZdQEAALidy8Fn//79WrlypRo3blwZ9QAAAFQal5/j06lTJ+3evbsyagEAAKhULvf4zJs3T4MGDdJXX32l+Ph4VatWzWl+r1693FYcAACAO7kcfDZt2qSMjAytWbOm1DwGNwMAAG/m8qWuESNGaODAgcrJyVFxcbHTROgBAADezOXgc/ToUY0aNUrh4eGVUQ8AAEClcTn43HXXXVq/fn1l1AIAAFCpXB7jc80112j8+PHKyMhQixYtSg1uHjFihNuKAwAAcKdLuqurRo0a2rhxozZu3Og0z2azEXwAAIDXuqQHGAIAAPgil8f4lDhz5oy+/fZbnT171p31AAAAVBqXg8/p06f10EMPqXr16rr22muVlZUl6dzYnmnTprm9QAAAAHdxOfiMHz9eu3fv1oYNGxQQEOBo79y5s5YvX+7W4gAAANzJ5TE+7733npYvX66bbrrJ6ZvZ4+Li9P3337u1OAAAAHdyucfnyJEjqlu3bqn2U6dOOQUhAAAAb+Ny8Lnhhhu0evVqx+uSsPP6668rKSnJfZUBAAC4mcuXuqZOnarbb79de/fu1dmzZ/XSSy9pz549yszMLPVcHwAAAG/ico9P27Zt9dlnn+n06dNq1KiR0tPTFR4erszMTCUkJFRGjU4KCgrUqlUr2Ww27dq1y2leVlaWevbsqaCgIIWFhWnEiBE6c+ZMpdcEAAB8g8s9PpLUokULLV682N21VMjjjz+uqKgo7d6926m9qKhIycnJqlOnjjIyMnT06FENGjRIxhjNmjXLI7UCAADv4nKPj5+fnw4fPlyq/ejRo/Lz83NLUReyZs0apaena8aMGaXmpaena+/evXrrrbfUunVrde7cWTNnztTrr7+u/Pz8Sq0LAAD4BpeDjzGmzPaCggL5+/tfdkEX8vPPP2vIkCF68803Vb169VLzMzMzFR8fr6ioKEdb165dVVBQoB07dlRaXQAAwHdU+FLXyy+/LOncXVwlX1RaoqioSJ988omaNWvm/gp1LmylpKTo4YcfVmJiog4cOFBqmdzcXIWHhzu1hYaGyt/fX7m5uRfcdkFBgQoKChyv6R0CAODKVeHg8/e//13SuRDy6quvOl3W8vf3V2xsrF599VWXdj5x4kRNmjSp3GW2bdumTZs2KT8/X+PHjy932bKeI2SMKff5QlOnTr1oDQAA4MpQ4eBT8q3sHTp00MqVKxUaGnrZOx8+fLj69etX7jKxsbGaPHmyNm/eLLvd7jQvMTFR999/vxYvXqyIiAht2bLFaf6xY8dUWFhYqifofOPHj9fo0aMdr/Pz8xUdHX0JRwMAALydy3d1rV+/vkLLBQcHa9euXbr66qsvuExYWJjCwsIuuq2XX35ZkydPdrw+dOiQunbtquXLl6tNmzaSpKSkJKWmpionJ0eRkZGSzg14ttvt5d5mb7fbSwUqAABwZbqk29kr4kKDoC9FTEyM0+uS8UWNGjVS/fr1JUldunRRXFycBg4cqOnTpysvL09jx47VkCFDFBwc7LZaAACA73L5ri5v5efnp9WrVysgIEDt2rVTnz591Lt37zJvfQcAANZUaT0+lSk2NrbMHqWYmBilpaV5oCIAAOALrpgeHwAAgIuptOBT3i3kAAAAnlBpwcedg5sBAADcodKCz5o1a1SvXr3K2jwAAIDLXB7cXFRUpEWLFunjjz/W4cOHVVxc7DR/3bp1kqSbb77ZPRUCAAC4icvBZ+TIkVq0aJGSk5MVHx/PWB4AAOAzXA4+y5Yt0zvvvKPu3btXRj0AAACVxuUxPv7+/mrcuHFl1AIAAFCpXA4+Y8aM0UsvvcRdWwAAwOe4fKkrIyND69ev15o1a3TttdeqWrVqTvNXrlzptuIAAADcyeXgc9VVV+nOO++sjFoAAAAqlcvBZ+HChZVRBwAAQKXju7oAAIBlVKjH5/rrr9fHH3+s0NBQtW7dutxn9+zcudNtxQEAALhThYLPHXfcIbvdLknq3bt3ZdYDAABQaSoUfCZMmFDmvwEAAHyJy4Obz3fy5MlS39UVHBx8WQUBAABUFpcHN+/fv1/JyckKCgpSSEiIQkNDFRoaqquuukqhoaGVUSMAAIBbuNzjc//990uSFixYoPDwcL6kFAAA+AyXg88XX3yhHTt2qGnTppVRDwAAQKVx+VLXDTfcoOzs7MqoBQAAoFK53OMzb948Pfzww/rpp58UHx9f6ru6WrZs6bbiAAAA3Mnl4HPkyBF9//33evDBBx1tNptNxhjZbDYVFRW5tUAAAAB3cTn4DB48WK1bt9bSpUsZ3AwAAHyKy8Hn4MGDWrVqlRo3blwZ9QAAAFQalwc3d+zYUbt3766MWgAAACqVyz0+PXv21KhRo/Tll1+qRYsWpQY39+rVy23FAQAAuJPLwefhhx+WJD377LOl5jG4GQAAeDOXg88fv5sLAADAV7g8xqeiWrRowYMOAQCAV6m04HPgwAEVFhZW1uYBAABcVmnBBwAAwNv4TPCJjY2VzWZzmsaNG+e0TFZWlnr27KmgoCCFhYVpxIgROnPmjIcqBgAA3sblwc2e9Oyzz2rIkCGO1zVq1HD8u6ioSMnJyapTp44yMjJ09OhRDRo0SMYYzZo1yxPlAgAAL+NTwadmzZqKiIgoc156err27t2r7OxsRUVFSZJmzpyplJQUpaamKjg4+M8sFQAAeCGfudQlSc8995xq166tVq1aKTU11ekyVmZmpuLj4x2hR5K6du2qgoIC7dix44LbLCgoUH5+vtMEAACuTJXW4/Paa68pPDzcbdsbOXKkrr/+eoWGhmrr1q0aP3689u/fr3nz5kmScnNzS+0vNDRU/v7+ys3NveB2p06dqkmTJrmtTgAA4L1cDj4vv/xyme02m00BAQFq3Lixbr31VvXv3/+i25o4ceJFQ8e2bduUmJioUaNGOdpatmyp0NBQ3XPPPY5eoJIa/sgYU+43yI8fP16jR492vM7Pz1d0dPRFawcAAL7H5eDz97//XUeOHNHp06cVGhoqY4x+/fVXVa9eXTVq1NDhw4d19dVXa/369RcNEMOHD1e/fv3KXSY2NrbM9ptuukmStG/fPtWuXVsRERHasmWL0zLHjh1TYWFhuT1Pdrtddru93BoAAMCVweUxPlOmTNENN9yg//znPzp69Kjy8vL03XffqU2bNnrppZeUlZWliIgIpx6aCwkLC1OzZs3KnQICAspc9/PPP5ckRUZGSpKSkpL01VdfKScnx7FMenq67Ha7EhISXD1MAABwBXK5x+dvf/ubVqxYoUaNGjnaGjdurBkzZujuu+/WDz/8oOeff153332324rMzMzU5s2b1aFDB4WEhGjbtm0aNWqUevXqpZiYGElSly5dFBcXp4EDB2r69OnKy8vT2LFjNWTIEO7oAgAAki4h+OTk5Ojs2bOl2s+ePesYRBwVFaUTJ05cfnX/H7vdruXLl2vSpEkqKChQgwYNNGTIED3++OOOZfz8/LR69WoNHTpU7dq1U2BgoPr3768ZM2a4rQ4AAODbXA4+HTp00F//+lfNmzdPrVu3lnTustMjjzyijh07SpK+/PJLNWzY0G1FXn/99dq8efNFl4uJiVFaWprb9gsAAK4sLo/xmT9/vmrVqqWEhATHwODExETVqlVL8+fPl3TuicozZ850e7EAAACXw+Uen4iICK1du1bffPONvvvuOxlj1KxZMzVt2tSxTIcOHdxaJAAAgDu4HHw2btyo9u3bO+66AgAA8BUuX+r6y1/+opiYGI0bN05fffVVZdQEAABQKVwOPocOHdLjjz+uTz/9VC1btlTLli31/PPP68cff6yM+gAAANzG5eATFham4cOH67PPPtP333+vvn376o033lBsbKzjri4AAABvdFnfzt6wYUONGzdO06ZNU4sWLbRx40Z31QUAAOB2lxx8PvvsMw0dOlSRkZHq37+/rr32Wp6hAwAAvJrLwefJJ59Uw4YN1aFDBx08eFAvvviicnNz9dZbbzm+NwsAAMAbuXw7+4YNGzR27Fj17dtXYWFhOn78uBYtWqT58+dr165dKioqqow6AQAALpvLwWfTpk2SpHXr1mnBggVauXKlGjRooLvvvlvz5s1ze4EAAADu4lLw+fHHH7Vo0SItXLhQJ0+eVJ8+fVRYWKgVK1YoLi6usmoEAABwiwqP8enevbvi4uK0Z88evfzyyzp06JBmzZpVmbUBAAC4VYV7fNLT0zVixAg98sgjatKkSWXWBAAAUCkq3OPz6aef6sSJE0pMTFSbNm30yiuv6MiRI5VZGwAAgFtVOPgkJSXp9ddfV05Ojv76179q2bJlqlevnoqLi7V27VqdOHGiMusEAAC4bC4/x6d69eoaPHiwMjIy9OWXX2rMmDGaNm2a6tatq169elVGjQAAAG5xWV9Z0bRpU8cXlC5dutRdNQEAAFSKywo+Jfz8/NS7d2+tWrXKHZsDAACoFG4JPgAAAL6A4AMAACyD4AMAACyD4AMAACyD4AMAACyD4AMAACyD4AMAACyD4AMAACyD4AMAACyD4AMAACyD4AMAACyD4AMAACzDp4LP6tWr1aZNGwUGBiosLEx33XWX0/ysrCz17NlTQUFBCgsL04gRI3TmzBkPVQsAALxNVU8XUFErVqzQkCFDNGXKFHXs2FHGGH355ZeO+UVFRUpOTladOnWUkZGho0ePatCgQTLGaNasWR6sHAAAeAufCD5nz57VyJEjNX36dD300EOO9qZNmzr+nZ6err179yo7O1tRUVGSpJkzZyolJUWpqakKDg7+0+sGAADexScude3cuVM//fSTqlSpotatWysyMlLdunXTnj17HMtkZmYqPj7eEXokqWvXriooKNCOHTs8UTYAAPAyPhF8fvjhB0nSxIkT9be//U1paWkKDQ1V+/btlZeXJ0nKzc1VeHi403qhoaHy9/dXbm7uBbddUFCg/Px8pwkAAFyZPBp8Jk6cKJvNVu60fft2FRcXS5Keeuop3X333UpISNDChQtls9n0z3/+07E9m81Wah/GmDLbS0ydOlUhISGOKTo62v0HCgAAvIJHx/gMHz5c/fr1K3eZ2NhYnThxQpIUFxfnaLfb7br66quVlZUlSYqIiNCWLVuc1j127JgKCwtL9QSdb/z48Ro9erTjdX5+PuEHAIArlEeDT1hYmMLCwi66XEJCgux2u7799lvdfPPNkqTCwkIdOHBADRo0kCQlJSUpNTVVOTk5ioyMlHRuwLPdbldCQsIFt22322W3291wNAAAwNv5xF1dwcHBevjhhzVhwgRFR0erQYMGmj59uiTp3nvvlSR16dJFcXFxGjhwoKZPn668vDyNHTtWQ4YM4Y4uAAAgyUeCjyRNnz5dVatW1cCBA/Xbb7+pTZs2WrdunUJDQyVJfn5+Wr16tYYOHap27dopMDBQ/fv314wZMzxcOQAA8BY+E3yqVaumGTNmlBtkYmJilJaW9idWBQAAfIlP3M4OAADgDgQfAABgGQQfAABgGQQfAABgGQQfAABgGQQfAABgGQQfAABgGQQfAABgGQQfAABgGQQfAABgGQQfAABgGQQfAABgGQQfAABgGQQfAABgGQQfAABgGQQfAABgGQQfAABgGQQfAABgGQQfAABgGQQfAABgGQQfAABgGQQfAABgGQQfAABgGQQfAABgGQQfAABgGQQfAABgGQQfAABgGQQfAABgGVU9XQAAoDQzwXi6BOCKRI8PAACwDIIPAACwDIIPAACwDJ8Y47NhwwZ16NChzHlbt27VDTfcIEnKysrSsGHDtG7dOgUGBqp///6aMWOG/P39/8xyAeCKxdgj+DqfCD5t27ZVTk6OU9vTTz+tf//730pMTJQkFRUVKTk5WXXq1FFGRoaOHj2qQYMGyRijWbNmeaJsAADgZXwi+Pj7+ysiIsLxurCwUKtWrdLw4cNls9kkSenp6dq7d6+ys7MVFRUlSZo5c6ZSUlKUmpqq4OBgj9QOAAC8h0+O8Vm1apV++eUXpaSkONoyMzMVHx/vCD2S1LVrVxUUFGjHjh0X3FZBQYHy8/OdJgAAcGXyyeAzf/58de3aVdHR0Y623NxchYeHOy0XGhoqf39/5ebmXnBbU6dOVUhIiGM6f5sAAODK4tHgM3HiRNlstnKn7du3O63z448/6qOPPtJDDz1Uansll73OZ4wps73E+PHjdfz4cceUnZ19+QcGAAC8kkfH+AwfPlz9+vUrd5nY2Fin1wsXLlTt2rXVq1cvp/aIiAht2bLFqe3YsWMqLCws1RN0PrvdLrvd7lrhAADAJ3k0+ISFhSksLKzCyxtjtHDhQj3wwAOqVq2a07ykpCSlpqYqJydHkZGRks4NeLbb7UpISHBr3QAAwDf51BifdevWaf/+/WVe5urSpYvi4uI0cOBAff755/r44481duxYDRkyhDu6AACAJB8LPvPnz1fbtm3VvHnzUvP8/Py0evVqBQQEqF27durTp4969+6tGTNmeKBSAADgjXziOT4l3n777XLnx8TEKC0t7U+qBgAA+Bqf6vEBAAC4HD7V4wMA7sZ3T10ZvPV99Na6rIweHwAAYBkEHwAAYBkEHwAAYBkEHwAAYBkEHwAAYBkEHwAAYBkEHwAAYBkEHwAAYBk8wBAAAAuy6sMV6fEBAACWQfABAACWQfABAACWwRgfAJXOqmMJAHgfenwAAIBlEHwAAIBlEHwAAIBlEHwAAIBlEHwAAIBlEHwAAIBlEHwAAIBlEHwAAIBl8ADDPxEPcQMAwLPo8QEAAJZB8AEAAJZB8AEAAJZB8AEAAJZB8AEAAJZB8AEAAJZB8AEAAJbhM8/x+e677/TYY4/ps88+05kzZ9SiRQtNnjxZHTp0cCyTlZWlYcOGad26dQoMDFT//v01Y8YM+fv7e7By4M/Ds6IAoHw+0+OTnJyss2fPat26ddqxY4datWqlHj16KDc3V5JUVFSk5ORknTp1ShkZGVq2bJlWrFihMWPGeLhyAADgLXwi+Pzyyy/at2+fxo0bp5YtW6pJkyaaNm2aTp8+rT179kiS0tPTtXfvXr311ltq3bq1OnfurJkzZ+r1119Xfn6+h48AAAB4A58IPrVr11bz5s31xhtv6NSpUzp79qxee+01hYeHKyEhQZKUmZmp+Ph4RUVFOdbr2rWrCgoKtGPHjgtuu6CgQPn5+U4TAAC4MvnEGB+bzaa1a9fqjjvuUM2aNVWlShWFh4frww8/1FVXXSVJys3NVXh4uNN6oaGh8vf3d1wOK8vUqVM1adKkyizfJzA2BABgBR7t8Zk4caJsNlu50/bt22WM0dChQ1W3bl19+umn2rp1q+644w716NFDOTk5ju3ZbLZS+zDGlNleYvz48Tp+/Lhjys7OrpRjBQAAnufRHp/hw4erX79+5S4TGxurdevWKS0tTceOHVNwcLAkafbs2Vq7dq0WL16scePGKSIiQlu2bHFa99ixYyosLCzVE3Q+u90uu91++QcDAAC8nkeDT1hYmMLCwi663OnTpyVJVao4d1BVqVJFxcXFkqSkpCSlpqYqJydHkZGRks4NeLbb7Y5xQAAAwNp8YnBzUlKSQkNDNWjQIO3evdvxTJ/9+/crOTlZktSlSxfFxcVp4MCB+vzzz/Xxxx9r7NixGjJkiKOXCAAAWJtPBJ+wsDB9+OGHOnnypDp27KjExERlZGTo/fff13XXXSdJ8vPz0+rVqxUQEKB27dqpT58+6t27t2bMmOHh6gEAgLfwibu6JCkxMVEfffRRucvExMQoLS3tT6oIAAD4Gp/o8QEAAHAHgg8AALAMgg8AALAMgg8AALAMgg8AALAMgg8AALAMn7mdHdbkrV+e6q11AQDKR48PAACwDIIPAACwDIIPAACwDIIPAACwDIIPAACwDIIPAACwDIIPAACwDIIPAACwDIIPAACwDIIPAACwDIIPAACwDIIPAACwDIIPAACwDIIPAACwDIIPAACwDIIPAACwjKqeLsDbGGMkSfn5+R6uBAAAVFTJ3+2Sv+MXQvD5gxMnTkiSoqOjPVwJAABw1YkTJxQSEnLB+TZzsWhkMcXFxTp06JBq1qwpm83m6XK8Xn5+vqKjo5Wdna3g4GBPl+P1OF+u45y5hvPlOs6Za7z1fBljdOLECUVFRalKlQuP5KHH5w+qVKmi+vXre7oMnxMcHOxVPwDejvPlOs6ZazhfruOcucYbz1d5PT0lGNwMAAAsg+ADAAAsg+CDy2K32zVhwgTZ7XZPl+ITOF+u45y5hvPlOs6Za3z9fDG4GQAAWAY9PgAAwDIIPgAAwDIIPgAAwDIIPgAAwDIIPnDZ1KlTdcMNN6hmzZqqW7euevfurW+//dbTZfmUqVOnymaz6dFHH/V0KV7rp59+0oABA1S7dm1Vr15drVq10o4dOzxdltc6e/as/va3v6lhw4YKDAzU1VdfrWeffVbFxcWeLs0rfPLJJ+rZs6eioqJks9n03nvvOc03xmjixImKiopSYGCgbrvtNu3Zs8czxXqJ8s5ZYWGhnnjiCbVo0UJBQUGKiorSAw88oEOHDnmu4Aoi+MBlGzdu1LBhw7R582atXbtWZ8+eVZcuXXTq1ClPl+YTtm3bprlz56ply5aeLsVrHTt2TO3atVO1atW0Zs0a7d27VzNnztRVV13l6dK81nPPPadXX31Vr7zyir7++ms9//zzmj59umbNmuXp0rzCqVOndN111+mVV14pc/7zzz+vF154Qa+88oq2bdumiIgI/eUvf3F8f6MVlXfOTp8+rZ07d+rpp5/Wzp07tXLlSn333Xfq1auXByp1kQEu0+HDh40ks3HjRk+X4vVOnDhhmjRpYtauXWvat29vRo4c6emSvNITTzxhbr75Zk+X4VOSk5PN4MGDndruuusuM2DAAA9V5L0kmX/961+O18XFxSYiIsJMmzbN0fb777+bkJAQ8+qrr3qgQu/zx3NWlq1btxpJ5uDBg39OUZeIHh9ctuPHj0uSatWq5eFKvN+wYcOUnJyszp07e7oUr7Zq1SolJibq3nvvVd26ddW6dWu9/vrrni7Lq9188836+OOP9d1330mSdu/erYyMDHXv3t3DlXm//fv3Kzc3V126dHG02e12tW/fXps2bfJgZb7l+PHjstlsXt8zy5eU4rIYYzR69GjdfPPNio+P93Q5Xm3ZsmXasWOHtm/f7ulSvN4PP/ygOXPmaPTo0XryySe1detWjRgxQna7XQ888ICny/NKTzzxhI4fP65mzZrJz89PRUVFSk1N1X333efp0rxebm6uJCk8PNypPTw8XAcPHvREST7n999/17hx49S/f3+v++LSPyL44LIMHz5cX3zxhTIyMjxdilfLzs7WyJEjlZ6eroCAAE+X4/WKi4uVmJioKVOmSJJat26tPXv2aM6cOQSfC1i+fLneeustvf3227r22mu1a9cuPfroo4qKitKgQYM8XZ5PsNlsTq+NMaXaUFphYaH69eun4uJizZ4929PlXBTBB5fsf/7nf7Rq1Sp98sknql+/vqfL8Wo7duzQ4cOHlZCQ4GgrKirSJ598oldeeUUFBQXy8/PzYIXeJTIyUnFxcU5tzZs314oVKzxUkfd77LHHNG7cOPXr10+S1KJFCx08eFBTp04l+FxERESEpHM9P5GRkY72w4cPl+oFgrPCwkL16dNH+/fv17p167y+t0firi5cAmOMhg8frpUrV2rdunVq2LChp0vyep06ddKXX36pXbt2OabExETdf//92rVrF6HnD9q1a1fqEQnfffedGjRo4KGKvN/p06dVpYrzr3Q/Pz9uZ6+Ahg0bKiIiQmvXrnW0nTlzRhs3blTbtm09WJl3Kwk9//nPf/Tvf/9btWvX9nRJFUKPD1w2bNgwvf3223r//fdVs2ZNx/XxkJAQBQYGerg671SzZs1SY6CCgoJUu3ZtxkaVYdSoUWrbtq2mTJmiPn36aOvWrZo7d67mzp3r6dK8Vs+ePZWamqqYmBhde+21+vzzz/XCCy9o8ODBni7NK5w8eVL79u1zvN6/f7927dqlWrVqKSYmRo8++qimTJmiJk2aqEmTJpoyZYqqV6+u/v37e7BqzyrvnEVFRemee+7Rzp07lZaWpqKiIsffglq1asnf399TZV+ch+8qgw+SVOa0cOFCT5fmU7idvXz/93//Z+Lj443dbjfNmjUzc+fO9XRJXi0/P9+MHDnSxMTEmICAAHP11Vebp556yhQUFHi6NK+wfv36Mn9vDRo0yBhz7pb2CRMmmIiICGO3282tt95qvvzyS88W7WHlnbP9+/df8G/B+vXrPV16uWzGGPNnBi0AAABPYYwPAACwDIIPAACwDIIPAACwDIIPAACwDIIPAACwDIIPAACwDIIPAACwDIIPAJTBZrPpvffe83QZANyM4APAq6SkpMhms+nhhx8uNW/o0KGy2WxKSUlx2/4mTpyoVq1auW17ALwbwQeA14mOjtayZcv022+/Odp+//13LV26VDExMR6sDICvI/gA8DrXX3+9YmJitHLlSkfbypUrFR0drdatWzvaCgoKNGLECNWtW1cBAQG6+eabtW3bNsf8DRs2yGaz6eOPP1ZiYqKqV6+utm3bOr75fdGiRZo0aZJ2794tm80mm82mRYsWOdb/5ZdfdOedd6p69epq0qSJVq1a5Zh37Ngx3X///apTp44CAwPVpEkTLVy4sBLPCgB3IPgA8EoPPvigU5BYsGBBqW8af/zxx7VixQotXrxYO3fuVOPGjdW1a1fl5eU5LffUU09p5syZ2r59u6pWrerYTt++fTVmzBhde+21ysnJUU5Ojvr27etYb9KkSerTp4+++OILde/eXffff79j208//bT27t2rNWvW6Ouvv9acOXMUFhZWWacDgJsQfAB4pYEDByojI0MHDhzQwYMH9dlnn2nAgAGO+adOndKcOXM0ffp0devWTXFxcXr99dcVGBio+fPnO20rNTVV7du3V1xcnMaNG6dNmzbp999/V2BgoGrUqKGqVasqIiJCERERCgwMdKyXkpKi++67T40bN9aUKVN06tQpbd26VZKUlZWl1q1bKzExUbGxsercubN69uz555wcAJesqqcLAICyhIWFKTk5WYsXL5YxRsnJyU49Kt9//70KCwvVrl07R1u1atV044036uuvv3baVsuWLR3/joyMlCQdPnz4ouOFzl8vKChINWvW1OHDhyVJjzzyiO6++27t3LlTXbp0Ue/evdW2bdtLP2AAfwp6fAB4rcGDB2vRokVavHhxqctcxhhJ5247/2P7H9uqVavm+HfJvOLi4ovu//z1StYtWa9bt246ePCgHn30UR06dEidOnXS2LFjK3hkADyF4APAa91+++06c+aMzpw5o65duzrNa9y4sfz9/ZWRkeFoKyws1Pbt29W8efMK78Pf319FRUWXVF+dOnWUkpKit956Sy+++KLmzp17SdsB8OfhUhcAr+Xn5+e4bOXn5+c0LygoSI888ogee+wx1apVSzExMXr++ed1+vRpPfTQQxXeR2xsrPbv369du3apfv36qlmzpux2+0XXe+aZZ5SQkKBrr71WBQUFSktLcylwAfAMgg8ArxYcHHzBedOmTVNxcbEGDhyoEydOKDExUR999JFCQ0MrvP27775bK1euVIcOHfTrr79q4cKFFXpAor+/v8aPH68DBw4oMDBQt9xyi5YtW1bh/QLwDJspuVAOAABwhWOMDwAAsAyCDwAAsAyCDwAAsAyCDwAAsAyCDwAAsAyCDwAAsAyCDwAAsAyCDwAAsAyCDwAAsAyCDwAAsAyCDwAAsAyCDwAAsIz/B1uklb6zcedfAAAAAElFTkSuQmCC\n",
      "text/plain": [
       "<Figure size 640x480 with 1 Axes>"
      ]
     },
     "metadata": {},
     "output_type": "display_data"
    }
   ],
   "source": [
    "# Plot the average temperature by month\n",
    "plt.bar(month_temp_df['month_num'],month_temp_df['avg_min_temp'], color='green')\n",
    "\n",
    "# Create labels for the x and y axes.\n",
    "plt.xlabel(\"Months\")\n",
    "plt.ylabel(\"Avg_min_temp\")\n",
    "\n",
    "# Create title \n",
    "plt.title('Avergae Minimum Temperature by Month')"
   ]
  },
  {
   "cell_type": "code",
   "execution_count": 23,
   "metadata": {},
   "outputs": [
    {
     "data": {
      "text/html": [
       "<div>\n",
       "<style scoped>\n",
       "    .dataframe tbody tr th:only-of-type {\n",
       "        vertical-align: middle;\n",
       "    }\n",
       "\n",
       "    .dataframe tbody tr th {\n",
       "        vertical-align: top;\n",
       "    }\n",
       "\n",
       "    .dataframe thead th {\n",
       "        text-align: right;\n",
       "    }\n",
       "</style>\n",
       "<table border=\"1\" class=\"dataframe\">\n",
       "  <thead>\n",
       "    <tr style=\"text-align: right;\">\n",
       "      <th></th>\n",
       "      <th>month_num</th>\n",
       "      <th>avg_min_temp</th>\n",
       "    </tr>\n",
       "  </thead>\n",
       "  <tbody>\n",
       "    <tr>\n",
       "      <th>2</th>\n",
       "      <td>3</td>\n",
       "      <td>-83.0</td>\n",
       "    </tr>\n",
       "    <tr>\n",
       "      <th>3</th>\n",
       "      <td>4</td>\n",
       "      <td>-83.0</td>\n",
       "    </tr>\n",
       "  </tbody>\n",
       "</table>\n",
       "</div>"
      ],
      "text/plain": [
       "   month_num  avg_min_temp\n",
       "2          3         -83.0\n",
       "3          4         -83.0"
      ]
     },
     "execution_count": 23,
     "metadata": {},
     "output_type": "execute_result"
    }
   ],
   "source": [
    "# Identify the coldest and hottest months in Curiosity's location\n",
    "#The coldest month\n",
    "min_avg_temp =month_temp_df['avg_min_temp'].min()\n",
    "month_min_temp=month_temp_df.loc[month_temp_df['avg_min_temp']==min_avg_temp]\n",
    "month_min_temp"
   ]
  },
  {
   "cell_type": "code",
   "execution_count": 24,
   "metadata": {},
   "outputs": [
    {
     "data": {
      "text/html": [
       "<div>\n",
       "<style scoped>\n",
       "    .dataframe tbody tr th:only-of-type {\n",
       "        vertical-align: middle;\n",
       "    }\n",
       "\n",
       "    .dataframe tbody tr th {\n",
       "        vertical-align: top;\n",
       "    }\n",
       "\n",
       "    .dataframe thead th {\n",
       "        text-align: right;\n",
       "    }\n",
       "</style>\n",
       "<table border=\"1\" class=\"dataframe\">\n",
       "  <thead>\n",
       "    <tr style=\"text-align: right;\">\n",
       "      <th></th>\n",
       "      <th>month_num</th>\n",
       "      <th>avg_min_temp</th>\n",
       "    </tr>\n",
       "  </thead>\n",
       "  <tbody>\n",
       "    <tr>\n",
       "      <th>7</th>\n",
       "      <td>8</td>\n",
       "      <td>-68.0</td>\n",
       "    </tr>\n",
       "  </tbody>\n",
       "</table>\n",
       "</div>"
      ],
      "text/plain": [
       "   month_num  avg_min_temp\n",
       "7          8         -68.0"
      ]
     },
     "execution_count": 24,
     "metadata": {},
     "output_type": "execute_result"
    }
   ],
   "source": [
    "#The warmest month\n",
    "max_avg_temp = month_temp_df['avg_min_temp'].max()\n",
    "month_max_temp=month_temp_df.loc[month_temp_df['avg_min_temp']==max_avg_temp]\n",
    "month_max_temp"
   ]
  },
  {
   "cell_type": "code",
   "execution_count": 26,
   "metadata": {},
   "outputs": [
    {
     "data": {
      "text/html": [
       "<div>\n",
       "<style scoped>\n",
       "    .dataframe tbody tr th:only-of-type {\n",
       "        vertical-align: middle;\n",
       "    }\n",
       "\n",
       "    .dataframe tbody tr th {\n",
       "        vertical-align: top;\n",
       "    }\n",
       "\n",
       "    .dataframe thead th {\n",
       "        text-align: right;\n",
       "    }\n",
       "</style>\n",
       "<table border=\"1\" class=\"dataframe\">\n",
       "  <thead>\n",
       "    <tr style=\"text-align: right;\">\n",
       "      <th></th>\n",
       "      <th>pressure</th>\n",
       "    </tr>\n",
       "    <tr>\n",
       "      <th>month</th>\n",
       "      <th></th>\n",
       "    </tr>\n",
       "  </thead>\n",
       "  <tbody>\n",
       "    <tr>\n",
       "      <th>1</th>\n",
       "      <td>862.488506</td>\n",
       "    </tr>\n",
       "    <tr>\n",
       "      <th>2</th>\n",
       "      <td>889.455056</td>\n",
       "    </tr>\n",
       "    <tr>\n",
       "      <th>3</th>\n",
       "      <td>877.322917</td>\n",
       "    </tr>\n",
       "    <tr>\n",
       "      <th>4</th>\n",
       "      <td>806.329897</td>\n",
       "    </tr>\n",
       "    <tr>\n",
       "      <th>5</th>\n",
       "      <td>748.557047</td>\n",
       "    </tr>\n",
       "    <tr>\n",
       "      <th>6</th>\n",
       "      <td>745.054422</td>\n",
       "    </tr>\n",
       "    <tr>\n",
       "      <th>7</th>\n",
       "      <td>795.105634</td>\n",
       "    </tr>\n",
       "    <tr>\n",
       "      <th>8</th>\n",
       "      <td>873.829787</td>\n",
       "    </tr>\n",
       "    <tr>\n",
       "      <th>9</th>\n",
       "      <td>913.305970</td>\n",
       "    </tr>\n",
       "    <tr>\n",
       "      <th>10</th>\n",
       "      <td>887.312500</td>\n",
       "    </tr>\n",
       "    <tr>\n",
       "      <th>11</th>\n",
       "      <td>857.014493</td>\n",
       "    </tr>\n",
       "    <tr>\n",
       "      <th>12</th>\n",
       "      <td>842.156627</td>\n",
       "    </tr>\n",
       "  </tbody>\n",
       "</table>\n",
       "</div>"
      ],
      "text/plain": [
       "         pressure\n",
       "month            \n",
       "1      862.488506\n",
       "2      889.455056\n",
       "3      877.322917\n",
       "4      806.329897\n",
       "5      748.557047\n",
       "6      745.054422\n",
       "7      795.105634\n",
       "8      873.829787\n",
       "9      913.305970\n",
       "10     887.312500\n",
       "11     857.014493\n",
       "12     842.156627"
      ]
     },
     "execution_count": 26,
     "metadata": {},
     "output_type": "execute_result"
    }
   ],
   "source": [
    "# 4. Average pressure by Martian month\n",
    "df_by_month=mars_weather_df.groupby('month')\n",
    "df_month_pressure=df_by_month.mean().loc[:,['pressure']]\n",
    "df_month_pressure"
   ]
  },
  {
   "cell_type": "code",
   "execution_count": 27,
   "metadata": {},
   "outputs": [
    {
     "data": {
      "text/plain": [
       "Text(0.5, 1.0, 'Avergae Pressure by Month')"
      ]
     },
     "execution_count": 27,
     "metadata": {},
     "output_type": "execute_result"
    },
    {
     "data": {
      "image/png": "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\n",
      "text/plain": [
       "<Figure size 640x480 with 1 Axes>"
      ]
     },
     "metadata": {},
     "output_type": "display_data"
    }
   ],
   "source": [
    "# Plot the average pressure by month\n",
    "x=range(1,13)\n",
    "plt.bar(x,df_month_pressure['pressure'])\n",
    "\n",
    "# Create labels for the x and y axes.\n",
    "plt.xlabel(\"Months\")\n",
    "plt.ylabel(\"Avg_pressure\")\n",
    "\n",
    "# Create title \n",
    "plt.title('Avergae Pressure by Month')"
   ]
  },
  {
   "cell_type": "code",
   "execution_count": 30,
   "metadata": {},
   "outputs": [
    {
     "data": {
      "text/plain": [
       "155"
      ]
     },
     "execution_count": 30,
     "metadata": {},
     "output_type": "execute_result"
    }
   ],
   "source": [
    "#Finding the original Sun longitude\n",
    "orig_long=mars_weather_df['ls'].loc[0]\n",
    "orig_long"
   ]
  },
  {
   "cell_type": "code",
   "execution_count": 31,
   "metadata": {
    "scrolled": true
   },
   "outputs": [
    {
     "data": {
      "text/html": [
       "<div>\n",
       "<style scoped>\n",
       "    .dataframe tbody tr th:only-of-type {\n",
       "        vertical-align: middle;\n",
       "    }\n",
       "\n",
       "    .dataframe tbody tr th {\n",
       "        vertical-align: top;\n",
       "    }\n",
       "\n",
       "    .dataframe thead th {\n",
       "        text-align: right;\n",
       "    }\n",
       "</style>\n",
       "<table border=\"1\" class=\"dataframe\">\n",
       "  <thead>\n",
       "    <tr style=\"text-align: right;\">\n",
       "      <th></th>\n",
       "      <th>id</th>\n",
       "      <th>terrestrial_date</th>\n",
       "      <th>sol</th>\n",
       "      <th>ls</th>\n",
       "      <th>month</th>\n",
       "      <th>min_temp</th>\n",
       "      <th>pressure</th>\n",
       "    </tr>\n",
       "  </thead>\n",
       "  <tbody>\n",
       "    <tr>\n",
       "      <th>0</th>\n",
       "      <td>2</td>\n",
       "      <td>2012-08-16</td>\n",
       "      <td>10</td>\n",
       "      <td>155</td>\n",
       "      <td>6</td>\n",
       "      <td>-75.0</td>\n",
       "      <td>739.0</td>\n",
       "    </tr>\n",
       "    <tr>\n",
       "      <th>598</th>\n",
       "      <td>621</td>\n",
       "      <td>2014-07-03</td>\n",
       "      <td>678</td>\n",
       "      <td>155</td>\n",
       "      <td>6</td>\n",
       "      <td>-77.0</td>\n",
       "      <td>739.0</td>\n",
       "    </tr>\n",
       "    <tr>\n",
       "      <th>599</th>\n",
       "      <td>624</td>\n",
       "      <td>2014-07-04</td>\n",
       "      <td>679</td>\n",
       "      <td>155</td>\n",
       "      <td>6</td>\n",
       "      <td>-77.0</td>\n",
       "      <td>738.0</td>\n",
       "    </tr>\n",
       "    <tr>\n",
       "      <th>1249</th>\n",
       "      <td>1274</td>\n",
       "      <td>2016-05-20</td>\n",
       "      <td>1346</td>\n",
       "      <td>155</td>\n",
       "      <td>6</td>\n",
       "      <td>-75.0</td>\n",
       "      <td>737.0</td>\n",
       "    </tr>\n",
       "    <tr>\n",
       "      <th>1250</th>\n",
       "      <td>1277</td>\n",
       "      <td>2016-05-21</td>\n",
       "      <td>1347</td>\n",
       "      <td>155</td>\n",
       "      <td>6</td>\n",
       "      <td>-75.0</td>\n",
       "      <td>736.0</td>\n",
       "    </tr>\n",
       "  </tbody>\n",
       "</table>\n",
       "</div>"
      ],
      "text/plain": [
       "        id terrestrial_date   sol   ls  month  min_temp  pressure\n",
       "0        2       2012-08-16    10  155      6     -75.0     739.0\n",
       "598    621       2014-07-03   678  155      6     -77.0     739.0\n",
       "599    624       2014-07-04   679  155      6     -77.0     738.0\n",
       "1249  1274       2016-05-20  1346  155      6     -75.0     737.0\n",
       "1250  1277       2016-05-21  1347  155      6     -75.0     736.0"
      ]
     },
     "execution_count": 31,
     "metadata": {},
     "output_type": "execute_result"
    }
   ],
   "source": [
    "#Find where longitude is equal to orig_long\n",
    "same_long=mars_weather_df.loc[mars_weather_df['ls']==orig_long]\n",
    "same_long"
   ]
  },
  {
   "cell_type": "code",
   "execution_count": 32,
   "metadata": {},
   "outputs": [
    {
     "name": "stdout",
     "output_type": "stream",
     "text": [
      "In one Martial year, nearly  686 days 00:00:00 pass on Earth\n"
     ]
    }
   ],
   "source": [
    "import datetime as dt\n",
    "from datetime import timedelta\n",
    "from datetime import datetime\n",
    "\n",
    "a=same_long['terrestrial_date'].loc[0]\n",
    "date_after_one_martial_year = same_long['terrestrial_date'].iloc[1]\n",
    "one_martial_year= date_after_one_martial_year-a\n",
    "print(f'In one Martial year, nearly ',one_martial_year,'pass on Earth')"
   ]
  },
  {
   "cell_type": "markdown",
   "metadata": {},
   "source": [
    "On average, the third month has the coldest minimum temperature on Mars, and the eighth month is the warmest. But it is always very cold there in human terms!\n",
    "\n"
   ]
  },
  {
   "cell_type": "markdown",
   "metadata": {},
   "source": [
    "Atmospheric pressure is, on average, lowest in the sixth month and highest in the ninth."
   ]
  },
  {
   "cell_type": "markdown",
   "metadata": {},
   "source": [
    "The distance from peak to peak is roughly 1425-750, or 675 days. A year on Mars appears to be about 675 days from the plot. Internet search confirms that a Mars year is equivalent to 687 earth days."
   ]
  },
  {
   "cell_type": "markdown",
   "metadata": {},
   "source": [
    "### Step 6: Save the Data\n",
    "\n",
    "Export the DataFrame to a CSV file."
   ]
  },
  {
   "cell_type": "code",
   "execution_count": 33,
   "metadata": {},
   "outputs": [],
   "source": [
    "# Write the data to a CSV\n",
    "mars_weather_df.to_csv('mars_table.csv',index=False)"
   ]
  },
  {
   "cell_type": "code",
   "execution_count": 34,
   "metadata": {},
   "outputs": [],
   "source": [
    "browser.quit()"
   ]
  },
  {
   "cell_type": "code",
   "execution_count": null,
   "metadata": {},
   "outputs": [],
   "source": []
  }
 ],
 "metadata": {
  "kernelspec": {
   "display_name": "Python 3 (ipykernel)",
   "language": "python",
   "name": "python3"
  },
  "language_info": {
   "codemirror_mode": {
    "name": "ipython",
    "version": 3
   },
   "file_extension": ".py",
   "mimetype": "text/x-python",
   "name": "python",
   "nbconvert_exporter": "python",
   "pygments_lexer": "ipython3",
   "version": 